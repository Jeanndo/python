{
 "cells": [
  {
   "cell_type": "code",
   "execution_count": 2,
   "id": "bb6134ab-87e7-4fe5-89ed-f428a838b3b2",
   "metadata": {},
   "outputs": [],
   "source": [
    "game_list = [0,1,2]"
   ]
  },
  {
   "cell_type": "code",
   "execution_count": 4,
   "id": "5a0dff93-ba3e-4a17-87c7-5658940025d6",
   "metadata": {},
   "outputs": [],
   "source": [
    "def display_game(game_list):\n",
    "    print(\"Here is the current list: \")\n",
    "    print(game_list)"
   ]
  },
  {
   "cell_type": "code",
   "execution_count": 6,
   "id": "a62b933e-4931-4f92-b34c-01e8a1d1acea",
   "metadata": {},
   "outputs": [
    {
     "name": "stdout",
     "output_type": "stream",
     "text": [
      "Here is the current list: \n",
      "[0, 1, 2]\n"
     ]
    }
   ],
   "source": [
    "display_game(game_list)"
   ]
  },
  {
   "cell_type": "code",
   "execution_count": 11,
   "id": "accd5eaa-c2b9-450b-aca1-43d2adcc1856",
   "metadata": {},
   "outputs": [],
   "source": [
    " def position_choice():\n",
    "     choice = \"wrong\"\n",
    "     \n",
    "     while choice not in [\"0\",\"1\",\"2\"]:\n",
    "         \n",
    "         choice = input(\"pick a position (0,1,2): \")\n",
    "         \n",
    "         if choice not in [\"0\",\"1\",\"2\"]:\n",
    "             print(\"sorry, invalid choice\")\n",
    "\n",
    "     return int(choice)\n",
    "\n",
    "    \n",
    "     "
   ]
  },
  {
   "cell_type": "code",
   "execution_count": 13,
   "id": "b57e566e-4f0c-4ab5-b216-451ba94ab74b",
   "metadata": {},
   "outputs": [
    {
     "name": "stdin",
     "output_type": "stream",
     "text": [
      "pick a position (0,1,2):  w\n"
     ]
    },
    {
     "name": "stdout",
     "output_type": "stream",
     "text": [
      "sorry, invalid choice\n"
     ]
    },
    {
     "name": "stdin",
     "output_type": "stream",
     "text": [
      "pick a position (0,1,2):  45\n"
     ]
    },
    {
     "name": "stdout",
     "output_type": "stream",
     "text": [
      "sorry, invalid choice\n"
     ]
    },
    {
     "name": "stdin",
     "output_type": "stream",
     "text": [
      "pick a position (0,1,2):  0\n"
     ]
    },
    {
     "data": {
      "text/plain": [
       "0"
      ]
     },
     "execution_count": 13,
     "metadata": {},
     "output_type": "execute_result"
    }
   ],
   "source": [
    "position_choice()"
   ]
  },
  {
   "cell_type": "code",
   "execution_count": 15,
   "id": "377c3524-e78c-4cec-bf86-6913e2f5815e",
   "metadata": {},
   "outputs": [],
   "source": [
    "def replacement_choice(game_list,position):\n",
    "    user_placement = input(\"Type a string to place at position: \")\n",
    "\n",
    "    game_list[position] = user_placement\n",
    "\n",
    "    return game_list\n",
    "    "
   ]
  },
  {
   "cell_type": "code",
   "execution_count": 19,
   "id": "f23cfcf1-3f37-444a-a079-5a95212e8be8",
   "metadata": {},
   "outputs": [
    {
     "name": "stdin",
     "output_type": "stream",
     "text": [
      "Type a string to place at position:  hello\n"
     ]
    },
    {
     "data": {
      "text/plain": [
       "[0, 'hello', 2]"
      ]
     },
     "execution_count": 19,
     "metadata": {},
     "output_type": "execute_result"
    }
   ],
   "source": [
    "replacement_choice(game_list,1)"
   ]
  },
  {
   "cell_type": "code",
   "execution_count": 27,
   "id": "a2e96d19-7d6e-4185-8b42-d66972450685",
   "metadata": {},
   "outputs": [],
   "source": [
    " def gameon_choice():\n",
    "     choice = \"wrong\"\n",
    "     \n",
    "     while choice not in [\"Y\",\"N\"]:\n",
    "         \n",
    "         choice = input(\"Keep playing? (Y,N): \")\n",
    "         \n",
    "         if choice not in [\"Y\",\"N\"]:\n",
    "             print(\"sorry, I dont understand, please choose Y or N\")\n",
    "\n",
    "     if choice == \"Y\":\n",
    "         return True\n",
    "\n",
    "     else:\n",
    "         return False\n",
    "        "
   ]
  },
  {
   "cell_type": "code",
   "execution_count": 29,
   "id": "83898553-6394-42bc-9f4f-7cf77e314213",
   "metadata": {},
   "outputs": [
    {
     "name": "stdin",
     "output_type": "stream",
     "text": [
      "Keep playing? (Y,N):  n\n"
     ]
    },
    {
     "name": "stdout",
     "output_type": "stream",
     "text": [
      "sorry, I dont understand, please choose Y or N\n"
     ]
    },
    {
     "name": "stdin",
     "output_type": "stream",
     "text": [
      "Keep playing? (Y,N):  N\n"
     ]
    },
    {
     "data": {
      "text/plain": [
       "False"
      ]
     },
     "execution_count": 29,
     "metadata": {},
     "output_type": "execute_result"
    }
   ],
   "source": [
    "gameon_choice()"
   ]
  },
  {
   "cell_type": "code",
   "execution_count": null,
   "id": "d35813f3-6022-4fe2-ae8d-b0b819024b45",
   "metadata": {},
   "outputs": [],
   "source": []
  },
  {
   "cell_type": "code",
   "execution_count": 34,
   "id": "316118aa-6bdd-4d55-b099-18e8956a84b2",
   "metadata": {},
   "outputs": [
    {
     "name": "stdout",
     "output_type": "stream",
     "text": [
      "Here is the current list: \n",
      "[0, 1, 2]\n"
     ]
    },
    {
     "name": "stdin",
     "output_type": "stream",
     "text": [
      "pick a position (0,1,2):  2\n",
      "Type a string to place at position:  Jeanndo\n"
     ]
    },
    {
     "name": "stdout",
     "output_type": "stream",
     "text": [
      "Here is the current list: \n",
      "[0, 1, 'Jeanndo']\n"
     ]
    },
    {
     "name": "stdin",
     "output_type": "stream",
     "text": [
      "Keep playing? (Y,N):  Y\n"
     ]
    },
    {
     "name": "stdout",
     "output_type": "stream",
     "text": [
      "Here is the current list: \n",
      "[0, 1, 'Jeanndo']\n"
     ]
    },
    {
     "name": "stdin",
     "output_type": "stream",
     "text": [
      "pick a position (0,1,2):  0\n",
      "Type a string to place at position:  jULES\n"
     ]
    },
    {
     "name": "stdout",
     "output_type": "stream",
     "text": [
      "Here is the current list: \n",
      "['jULES', 1, 'Jeanndo']\n"
     ]
    },
    {
     "name": "stdin",
     "output_type": "stream",
     "text": [
      "Keep playing? (Y,N):  y\n"
     ]
    },
    {
     "name": "stdout",
     "output_type": "stream",
     "text": [
      "sorry, I dont understand, please choose Y or N\n"
     ]
    },
    {
     "name": "stdin",
     "output_type": "stream",
     "text": [
      "Keep playing? (Y,N):  1\n"
     ]
    },
    {
     "name": "stdout",
     "output_type": "stream",
     "text": [
      "sorry, I dont understand, please choose Y or N\n"
     ]
    },
    {
     "name": "stdin",
     "output_type": "stream",
     "text": [
      "Keep playing? (Y,N):  Mugisha\n"
     ]
    },
    {
     "name": "stdout",
     "output_type": "stream",
     "text": [
      "sorry, I dont understand, please choose Y or N\n"
     ]
    },
    {
     "name": "stdin",
     "output_type": "stream",
     "text": [
      "Keep playing? (Y,N):  Y\n"
     ]
    },
    {
     "name": "stdout",
     "output_type": "stream",
     "text": [
      "Here is the current list: \n",
      "['jULES', 1, 'Jeanndo']\n"
     ]
    },
    {
     "name": "stdin",
     "output_type": "stream",
     "text": [
      "pick a position (0,1,2):  1\n",
      "Type a string to place at position:  mUGISHA\n"
     ]
    },
    {
     "name": "stdout",
     "output_type": "stream",
     "text": [
      "Here is the current list: \n",
      "['jULES', 'mUGISHA', 'Jeanndo']\n"
     ]
    },
    {
     "name": "stdin",
     "output_type": "stream",
     "text": [
      "Keep playing? (Y,N):  N\n"
     ]
    }
   ],
   "source": [
    "game_on = True\n",
    "game_list = [0,1,2]\n",
    "\n",
    "while game_on:\n",
    "    display_game(game_list)\n",
    "    position = position_choice()\n",
    "    game_list = replacement_choice(game_list,position)\n",
    "\n",
    "    display_game(game_list) \n",
    "\n",
    "    game_on = gameon_choice()"
   ]
  },
  {
   "cell_type": "code",
   "execution_count": null,
   "id": "8aabb7e6-26b6-4690-8c3e-7b52af2f28db",
   "metadata": {},
   "outputs": [],
   "source": []
  }
 ],
 "metadata": {
  "kernelspec": {
   "display_name": "Python 3 (ipykernel)",
   "language": "python",
   "name": "python3"
  },
  "language_info": {
   "codemirror_mode": {
    "name": "ipython",
    "version": 3
   },
   "file_extension": ".py",
   "mimetype": "text/x-python",
   "name": "python",
   "nbconvert_exporter": "python",
   "pygments_lexer": "ipython3",
   "version": "3.12.4"
  }
 },
 "nbformat": 4,
 "nbformat_minor": 5
}
