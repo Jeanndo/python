{
 "cells": [
  {
   "cell_type": "code",
   "execution_count": 2,
   "id": "f7d7502d-5833-40a3-bebf-3e5c6f48774d",
   "metadata": {},
   "outputs": [],
   "source": [
    "mylist =[x for x in range(1,20)]"
   ]
  },
  {
   "cell_type": "code",
   "execution_count": 4,
   "id": "48f026d3-1989-4d2f-b5d1-7feec2b3a41f",
   "metadata": {},
   "outputs": [
    {
     "data": {
      "text/plain": [
       "[1, 2, 3, 4, 5, 6, 7, 8, 9, 10, 11, 12, 13, 14, 15, 16, 17, 18, 19]"
      ]
     },
     "execution_count": 4,
     "metadata": {},
     "output_type": "execute_result"
    }
   ],
   "source": [
    "mylist"
   ]
  },
  {
   "cell_type": "code",
   "execution_count": 6,
   "id": "ceee9ad2-860a-47c5-9c01-6ada221394ef",
   "metadata": {},
   "outputs": [],
   "source": [
    "mylist =[x**2 for x in range(1,20)]"
   ]
  },
  {
   "cell_type": "code",
   "execution_count": 8,
   "id": "27def6fd-5f9a-4fb9-b84b-3da3f565bf9d",
   "metadata": {},
   "outputs": [
    {
     "data": {
      "text/plain": [
       "[1,\n",
       " 4,\n",
       " 9,\n",
       " 16,\n",
       " 25,\n",
       " 36,\n",
       " 49,\n",
       " 64,\n",
       " 81,\n",
       " 100,\n",
       " 121,\n",
       " 144,\n",
       " 169,\n",
       " 196,\n",
       " 225,\n",
       " 256,\n",
       " 289,\n",
       " 324,\n",
       " 361]"
      ]
     },
     "execution_count": 8,
     "metadata": {},
     "output_type": "execute_result"
    }
   ],
   "source": [
    "mylist"
   ]
  },
  {
   "cell_type": "code",
   "execution_count": 14,
   "id": "22cc4910-ac6a-4aad-985d-e16b1835de87",
   "metadata": {},
   "outputs": [],
   "source": [
    "celicious = [10,20,30,40,50]\n",
    "\n",
    "faharneit = [ (9/5)*temp+32 for temp in celicious]"
   ]
  },
  {
   "cell_type": "code",
   "execution_count": 16,
   "id": "88c27711-776c-42d3-af6d-3242f0352202",
   "metadata": {},
   "outputs": [
    {
     "data": {
      "text/plain": [
       "[50.0, 68.0, 86.0, 104.0, 122.0]"
      ]
     },
     "execution_count": 16,
     "metadata": {},
     "output_type": "execute_result"
    }
   ],
   "source": [
    "faharneit"
   ]
  },
  {
   "cell_type": "code",
   "execution_count": null,
   "id": "3d6b5763-3684-4a82-8346-a909e450d1be",
   "metadata": {},
   "outputs": [],
   "source": []
  }
 ],
 "metadata": {
  "kernelspec": {
   "display_name": "Python 3 (ipykernel)",
   "language": "python",
   "name": "python3"
  },
  "language_info": {
   "codemirror_mode": {
    "name": "ipython",
    "version": 3
   },
   "file_extension": ".py",
   "mimetype": "text/x-python",
   "name": "python",
   "nbconvert_exporter": "python",
   "pygments_lexer": "ipython3",
   "version": "3.12.4"
  }
 },
 "nbformat": 4,
 "nbformat_minor": 5
}
