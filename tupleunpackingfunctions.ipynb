{
 "cells": [
  {
   "cell_type": "code",
   "execution_count": 2,
   "id": "88da1a73-3e76-4d84-bdb5-ab4edbc0907a",
   "metadata": {},
   "outputs": [],
   "source": [
    "work_hours = [(\"John\",100),(\"Musa\",200),(\"Ange\",500)]\n",
    "\n",
    "def check_employee_hours(work_hours):\n",
    "\n",
    "    employee_max_hours = 0\n",
    "    employee_name=\"\"\n",
    "\n",
    "    for name,hour in work_hours:\n",
    "        if hour>employee_max_hours:\n",
    "            employee_max_hours=hour\n",
    "            employee_name=name\n",
    "        else:\n",
    "            pass\n",
    "    return (employee_name,employee_max_hours)\n",
    "    "
   ]
  },
  {
   "cell_type": "code",
   "execution_count": 4,
   "id": "87370aa2-c7d8-425d-832f-8c11b25be05f",
   "metadata": {},
   "outputs": [
    {
     "data": {
      "text/plain": [
       "('Ange', 500)"
      ]
     },
     "execution_count": 4,
     "metadata": {},
     "output_type": "execute_result"
    }
   ],
   "source": [
    "check_employee_hours(work_hours)"
   ]
  },
  {
   "cell_type": "code",
   "execution_count": null,
   "id": "94a8dff9-36ef-45e5-bbb6-4b4aa5cb101d",
   "metadata": {},
   "outputs": [],
   "source": []
  }
 ],
 "metadata": {
  "kernelspec": {
   "display_name": "Python 3 (ipykernel)",
   "language": "python",
   "name": "python3"
  },
  "language_info": {
   "codemirror_mode": {
    "name": "ipython",
    "version": 3
   },
   "file_extension": ".py",
   "mimetype": "text/x-python",
   "name": "python",
   "nbconvert_exporter": "python",
   "pygments_lexer": "ipython3",
   "version": "3.12.4"
  }
 },
 "nbformat": 4,
 "nbformat_minor": 5
}
