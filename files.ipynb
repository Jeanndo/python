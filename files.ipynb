{
 "cells": [
  {
   "cell_type": "code",
   "execution_count": 1,
   "id": "8d8195aa-a522-4c1d-baf4-3c7fc69e495b",
   "metadata": {},
   "outputs": [
    {
     "name": "stdout",
     "output_type": "stream",
     "text": [
      "Writing myfile.txt\n"
     ]
    }
   ],
   "source": [
    "%%writefile myfile.txt\n",
    "this is my first file line in python\n",
    "this is the second line \n",
    "this is the third line \n",
    "this is the fourth line\n",
    "this is the fith line \n",
    "this is the sith line \n",
    "this is the six line\n",
    "this is the seven line"
   ]
  },
  {
   "cell_type": "code",
   "execution_count": 3,
   "id": "ae649a41-e432-425b-b666-eb36bfc15919",
   "metadata": {},
   "outputs": [],
   "source": [
    "myfile = open(\"myfile.txt\")"
   ]
  },
  {
   "cell_type": "code",
   "execution_count": 5,
   "id": "fa948b24-2938-436e-9c46-4bd49ba192aa",
   "metadata": {},
   "outputs": [
    {
     "data": {
      "text/plain": [
       "<_io.TextIOWrapper name='myfile.txt' mode='r' encoding='cp1252'>"
      ]
     },
     "execution_count": 5,
     "metadata": {},
     "output_type": "execute_result"
    }
   ],
   "source": [
    "myfile"
   ]
  },
  {
   "cell_type": "code",
   "execution_count": 7,
   "id": "7e82fef5-fda9-42bb-bb96-cc2b2859525b",
   "metadata": {},
   "outputs": [
    {
     "ename": "FileNotFoundError",
     "evalue": "[Errno 2] No such file or directory: 'wrong.txt'",
     "output_type": "error",
     "traceback": [
      "\u001b[1;31m---------------------------------------------------------------------------\u001b[0m",
      "\u001b[1;31mFileNotFoundError\u001b[0m                         Traceback (most recent call last)",
      "Cell \u001b[1;32mIn[7], line 1\u001b[0m\n\u001b[1;32m----> 1\u001b[0m myfile\u001b[38;5;241m=\u001b[39m \u001b[38;5;28mopen\u001b[39m(\u001b[38;5;124m\"\u001b[39m\u001b[38;5;124mwrong.txt\u001b[39m\u001b[38;5;124m\"\u001b[39m)\n",
      "File \u001b[1;32m~\\anaconda3\\Lib\\site-packages\\IPython\\core\\interactiveshell.py:324\u001b[0m, in \u001b[0;36m_modified_open\u001b[1;34m(file, *args, **kwargs)\u001b[0m\n\u001b[0;32m    317\u001b[0m \u001b[38;5;28;01mif\u001b[39;00m file \u001b[38;5;129;01min\u001b[39;00m {\u001b[38;5;241m0\u001b[39m, \u001b[38;5;241m1\u001b[39m, \u001b[38;5;241m2\u001b[39m}:\n\u001b[0;32m    318\u001b[0m     \u001b[38;5;28;01mraise\u001b[39;00m \u001b[38;5;167;01mValueError\u001b[39;00m(\n\u001b[0;32m    319\u001b[0m         \u001b[38;5;124mf\u001b[39m\u001b[38;5;124m\"\u001b[39m\u001b[38;5;124mIPython won\u001b[39m\u001b[38;5;124m'\u001b[39m\u001b[38;5;124mt let you open fd=\u001b[39m\u001b[38;5;132;01m{\u001b[39;00mfile\u001b[38;5;132;01m}\u001b[39;00m\u001b[38;5;124m by default \u001b[39m\u001b[38;5;124m\"\u001b[39m\n\u001b[0;32m    320\u001b[0m         \u001b[38;5;124m\"\u001b[39m\u001b[38;5;124mas it is likely to crash IPython. If you know what you are doing, \u001b[39m\u001b[38;5;124m\"\u001b[39m\n\u001b[0;32m    321\u001b[0m         \u001b[38;5;124m\"\u001b[39m\u001b[38;5;124myou can use builtins\u001b[39m\u001b[38;5;124m'\u001b[39m\u001b[38;5;124m open.\u001b[39m\u001b[38;5;124m\"\u001b[39m\n\u001b[0;32m    322\u001b[0m     )\n\u001b[1;32m--> 324\u001b[0m \u001b[38;5;28;01mreturn\u001b[39;00m io_open(file, \u001b[38;5;241m*\u001b[39margs, \u001b[38;5;241m*\u001b[39m\u001b[38;5;241m*\u001b[39mkwargs)\n",
      "\u001b[1;31mFileNotFoundError\u001b[0m: [Errno 2] No such file or directory: 'wrong.txt'"
     ]
    }
   ],
   "source": [
    "myfile= open(\"wrong.txt\")"
   ]
  },
  {
   "cell_type": "code",
   "execution_count": 9,
   "id": "a7d84dca-17e5-459b-8ec8-93d7dd5bec2c",
   "metadata": {},
   "outputs": [
    {
     "data": {
      "text/plain": [
       "'C:\\\\Users\\\\Jonas\\\\myPython'"
      ]
     },
     "execution_count": 9,
     "metadata": {},
     "output_type": "execute_result"
    }
   ],
   "source": [
    "pwd"
   ]
  },
  {
   "cell_type": "code",
   "execution_count": 11,
   "id": "cfa81a76-eb57-4e01-956c-14bae06ad808",
   "metadata": {},
   "outputs": [],
   "source": [
    "myfile = open(\"myfile.txt\")"
   ]
  },
  {
   "cell_type": "code",
   "execution_count": 13,
   "id": "96e77243-c6c9-44ff-be27-3e6867fcb4d0",
   "metadata": {},
   "outputs": [
    {
     "data": {
      "text/plain": [
       "'this is my first file line in python\\nthis is the second line \\nthis is the third line \\nthis is the fourth line\\nthis is the fith line \\nthis is the sith line \\nthis is the six line\\nthis is the seven line\\n'"
      ]
     },
     "execution_count": 13,
     "metadata": {},
     "output_type": "execute_result"
    }
   ],
   "source": [
    "myfile.read()"
   ]
  },
  {
   "cell_type": "code",
   "execution_count": 15,
   "id": "51a9c26e-6725-4280-bcd3-3ea8eb629977",
   "metadata": {},
   "outputs": [
    {
     "data": {
      "text/plain": [
       "''"
      ]
     },
     "execution_count": 15,
     "metadata": {},
     "output_type": "execute_result"
    }
   ],
   "source": [
    "myfile.read()"
   ]
  },
  {
   "cell_type": "code",
   "execution_count": 17,
   "id": "3576b53d-375c-42dd-93ee-19c933ea5f89",
   "metadata": {},
   "outputs": [],
   "source": [
    "#RESETTING THE CURSOR AT THE BEGINNING AFTER READING IT"
   ]
  },
  {
   "cell_type": "code",
   "execution_count": 19,
   "id": "c9d81f64-8f20-4c19-9c21-f3e4fa0a1de1",
   "metadata": {},
   "outputs": [
    {
     "data": {
      "text/plain": [
       "0"
      ]
     },
     "execution_count": 19,
     "metadata": {},
     "output_type": "execute_result"
    }
   ],
   "source": [
    "myfile.seek(0)"
   ]
  },
  {
   "cell_type": "code",
   "execution_count": 21,
   "id": "bf38fb52-30b7-4d2f-b34f-e245357809e6",
   "metadata": {},
   "outputs": [
    {
     "data": {
      "text/plain": [
       "'this is my first file line in python\\nthis is the second line \\nthis is the third line \\nthis is the fourth line\\nthis is the fith line \\nthis is the sith line \\nthis is the six line\\nthis is the seven line\\n'"
      ]
     },
     "execution_count": 21,
     "metadata": {},
     "output_type": "execute_result"
    }
   ],
   "source": [
    "myfile.read()"
   ]
  },
  {
   "cell_type": "code",
   "execution_count": 23,
   "id": "58345993-a556-4e83-a26d-29b8f52db5c7",
   "metadata": {},
   "outputs": [
    {
     "data": {
      "text/plain": [
       "0"
      ]
     },
     "execution_count": 23,
     "metadata": {},
     "output_type": "execute_result"
    }
   ],
   "source": [
    "myfile.seek(0)"
   ]
  },
  {
   "cell_type": "code",
   "execution_count": 25,
   "id": "2d0a804d-bf95-4d7b-a615-35be754e5989",
   "metadata": {},
   "outputs": [],
   "source": [
    "contents = myfile.read()"
   ]
  },
  {
   "cell_type": "code",
   "execution_count": 27,
   "id": "7952b357-babf-4957-94b9-c94b12897adf",
   "metadata": {},
   "outputs": [
    {
     "data": {
      "text/plain": [
       "'this is my first file line in python\\nthis is the second line \\nthis is the third line \\nthis is the fourth line\\nthis is the fith line \\nthis is the sith line \\nthis is the six line\\nthis is the seven line\\n'"
      ]
     },
     "execution_count": 27,
     "metadata": {},
     "output_type": "execute_result"
    }
   ],
   "source": [
    "contents"
   ]
  },
  {
   "cell_type": "code",
   "execution_count": 29,
   "id": "2cc2e07d-4d7f-4b77-98ed-5e1a341c4297",
   "metadata": {},
   "outputs": [
    {
     "data": {
      "text/plain": [
       "0"
      ]
     },
     "execution_count": 29,
     "metadata": {},
     "output_type": "execute_result"
    }
   ],
   "source": [
    "myfile.seek(0)"
   ]
  },
  {
   "cell_type": "code",
   "execution_count": 31,
   "id": "13e80efe-2413-4a12-a21e-883e6e4d22e3",
   "metadata": {},
   "outputs": [
    {
     "data": {
      "text/plain": [
       "['this is my first file line in python\\n',\n",
       " 'this is the second line \\n',\n",
       " 'this is the third line \\n',\n",
       " 'this is the fourth line\\n',\n",
       " 'this is the fith line \\n',\n",
       " 'this is the sith line \\n',\n",
       " 'this is the six line\\n',\n",
       " 'this is the seven line\\n']"
      ]
     },
     "execution_count": 31,
     "metadata": {},
     "output_type": "execute_result"
    }
   ],
   "source": [
    "myfile.readlines()"
   ]
  },
  {
   "cell_type": "code",
   "execution_count": 33,
   "id": "bc448263-b60d-4e32-96ef-0e5a5933b93a",
   "metadata": {},
   "outputs": [],
   "source": [
    "#FILE LOCTIONS"
   ]
  },
  {
   "cell_type": "code",
   "execution_count": 35,
   "id": "f3b30432-011c-406e-b218-f39834e45d2b",
   "metadata": {},
   "outputs": [
    {
     "ename": "NameError",
     "evalue": "name 'PWD' is not defined",
     "output_type": "error",
     "traceback": [
      "\u001b[1;31m---------------------------------------------------------------------------\u001b[0m",
      "\u001b[1;31mNameError\u001b[0m                                 Traceback (most recent call last)",
      "Cell \u001b[1;32mIn[35], line 1\u001b[0m\n\u001b[1;32m----> 1\u001b[0m PWD\n",
      "\u001b[1;31mNameError\u001b[0m: name 'PWD' is not defined"
     ]
    }
   ],
   "source": [
    "PWD"
   ]
  },
  {
   "cell_type": "code",
   "execution_count": 37,
   "id": "f0179f6b-5b95-4e39-87d3-01ed1228609e",
   "metadata": {},
   "outputs": [
    {
     "data": {
      "text/plain": [
       "'C:\\\\Users\\\\Jonas\\\\myPython'"
      ]
     },
     "execution_count": 37,
     "metadata": {},
     "output_type": "execute_result"
    }
   ],
   "source": [
    "pwd"
   ]
  },
  {
   "cell_type": "code",
   "execution_count": 41,
   "id": "a51151e7-c6c0-4833-808d-b27a31f79744",
   "metadata": {},
   "outputs": [],
   "source": [
    "myfile.close()  #closing opened file"
   ]
  },
  {
   "cell_type": "code",
   "execution_count": 43,
   "id": "fc7787b3-512a-4445-b07d-1159234d8e96",
   "metadata": {},
   "outputs": [],
   "source": [
    "with open(\"myfile.txt\") as my_new_file:\n",
    "    contents = my_new_file.read()"
   ]
  },
  {
   "cell_type": "code",
   "execution_count": 45,
   "id": "9360c012-c32c-4b69-8f6a-f811ef4c7420",
   "metadata": {},
   "outputs": [
    {
     "data": {
      "text/plain": [
       "'this is my first file line in python\\nthis is the second line \\nthis is the third line \\nthis is the fourth line\\nthis is the fith line \\nthis is the sith line \\nthis is the six line\\nthis is the seven line\\n'"
      ]
     },
     "execution_count": 45,
     "metadata": {},
     "output_type": "execute_result"
    }
   ],
   "source": [
    "contents"
   ]
  },
  {
   "cell_type": "code",
   "execution_count": 47,
   "id": "e57bc666-529c-4d98-bac5-1426de55a270",
   "metadata": {},
   "outputs": [],
   "source": [
    "with open(\"myfile.txt\") as myfile:\n",
    "    contens = myfile.read()"
   ]
  },
  {
   "cell_type": "code",
   "execution_count": 49,
   "id": "2bfbe36d-44aa-4072-8786-0da23e574131",
   "metadata": {},
   "outputs": [
    {
     "data": {
      "text/plain": [
       "'this is my first file line in python\\nthis is the second line \\nthis is the third line \\nthis is the fourth line\\nthis is the fith line \\nthis is the sith line \\nthis is the six line\\nthis is the seven line\\n'"
      ]
     },
     "execution_count": 49,
     "metadata": {},
     "output_type": "execute_result"
    }
   ],
   "source": [
    "contents"
   ]
  },
  {
   "cell_type": "code",
   "execution_count": 53,
   "id": "902d2b9a-a852-491d-afa2-9fd2f5ef6a1c",
   "metadata": {},
   "outputs": [
    {
     "name": "stdout",
     "output_type": "stream",
     "text": [
      "this is my first file line in python\n",
      "this is the second line \n",
      "this is the third line \n",
      "this is the fourth line\n",
      "this is the fith line \n",
      "this is the sith line \n",
      "this is the six line\n",
      "this is the seven line\n",
      "\n"
     ]
    }
   ],
   "source": [
    "with open(\"myfile.txt\",mode=\"r\") as f:\n",
    "    print(f.read())"
   ]
  },
  {
   "cell_type": "code",
   "execution_count": 55,
   "id": "5a6e8079-e1da-4862-b5bf-04d84b80a21a",
   "metadata": {},
   "outputs": [],
   "source": [
    "with open(\"myfile.txt\",mode=\"a\") as f:\n",
    "    f.write(\"this is a new line added\")"
   ]
  },
  {
   "cell_type": "code",
   "execution_count": 57,
   "id": "e5903ca3-98b5-490b-a7f1-4fee44c831fe",
   "metadata": {},
   "outputs": [
    {
     "ename": "ValueError",
     "evalue": "I/O operation on closed file.",
     "output_type": "error",
     "traceback": [
      "\u001b[1;31m---------------------------------------------------------------------------\u001b[0m",
      "\u001b[1;31mValueError\u001b[0m                                Traceback (most recent call last)",
      "Cell \u001b[1;32mIn[57], line 1\u001b[0m\n\u001b[1;32m----> 1\u001b[0m f\u001b[38;5;241m.\u001b[39mread()\n",
      "\u001b[1;31mValueError\u001b[0m: I/O operation on closed file."
     ]
    }
   ],
   "source": [
    "f.read()"
   ]
  },
  {
   "cell_type": "code",
   "execution_count": 59,
   "id": "d086d0c2-519a-4da5-8e34-553377f9d2b7",
   "metadata": {},
   "outputs": [
    {
     "name": "stdout",
     "output_type": "stream",
     "text": [
      "this is my first file line in python\n",
      "this is the second line \n",
      "this is the third line \n",
      "this is the fourth line\n",
      "this is the fith line \n",
      "this is the sith line \n",
      "this is the six line\n",
      "this is the seven line\n",
      "this is a new line added\n"
     ]
    }
   ],
   "source": [
    "with open(\"myfile.txt\", mode=\"r\")  as f:\n",
    "    print(f.read())"
   ]
  },
  {
   "cell_type": "code",
   "execution_count": 61,
   "id": "3a709a0d-bba0-4970-8f85-fad461bdbb84",
   "metadata": {},
   "outputs": [],
   "source": [
    "with open(\"mynewfile.txt\",mode=\"w\") as f:\n",
    "    f.write(\"I need this file text to be created\")"
   ]
  },
  {
   "cell_type": "code",
   "execution_count": 63,
   "id": "43959648-1f51-4438-bfd8-1d6720aca072",
   "metadata": {},
   "outputs": [
    {
     "name": "stdout",
     "output_type": "stream",
     "text": [
      "I need this file text to be created\n"
     ]
    }
   ],
   "source": [
    "with open(\"mynewfile.txt\",mode=\"r\") as f:\n",
    "    print(f.read())"
   ]
  },
  {
   "cell_type": "code",
   "execution_count": null,
   "id": "1ca1ec70-5e5a-4a77-953d-77b3d74b541f",
   "metadata": {},
   "outputs": [],
   "source": []
  }
 ],
 "metadata": {
  "kernelspec": {
   "display_name": "Python 3 (ipykernel)",
   "language": "python",
   "name": "python3"
  },
  "language_info": {
   "codemirror_mode": {
    "name": "ipython",
    "version": 3
   },
   "file_extension": ".py",
   "mimetype": "text/x-python",
   "name": "python",
   "nbconvert_exporter": "python",
   "pygments_lexer": "ipython3",
   "version": "3.12.4"
  }
 },
 "nbformat": 4,
 "nbformat_minor": 5
}
