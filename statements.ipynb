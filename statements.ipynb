{
 "cells": [
  {
   "cell_type": "code",
   "execution_count": 9,
   "id": "c7ed3a7f-77d9-468a-9048-1c6ce4c79657",
   "metadata": {},
   "outputs": [
    {
     "name": "stdout",
     "output_type": "stream",
     "text": [
      "I am not hungry\n"
     ]
    }
   ],
   "source": [
    "hungry =  False\n",
    "if hungry:\n",
    "    print(\"Feed me\")\n",
    "else:\n",
    "    print(\"I am not hungry\")"
   ]
  },
  {
   "cell_type": "code",
   "execution_count": 15,
   "id": "6983f1a6-4a39-4f02-88b8-52bd7f44f5dd",
   "metadata": {},
   "outputs": [
    {
     "name": "stdout",
     "output_type": "stream",
     "text": [
      "I do not know much about it\n"
     ]
    }
   ],
   "source": [
    "loc =\"Game\"\n",
    "if loc ==\"Auto Shop\":\n",
    "    print(\"cars are cool\")\n",
    "elif loc ==\"Bank\":\n",
    "    print(\"Money is cool\")\n",
    "elif loc==\"Store\":\n",
    "    print(\"Welcome to the store\")\n",
    "else:\n",
    "    print(\"I do not know much about it\")"
   ]
  },
  {
   "cell_type": "code",
   "execution_count": 23,
   "id": "6298b8c4-1103-4850-a68c-b5cd52295d01",
   "metadata": {},
   "outputs": [
    {
     "name": "stdout",
     "output_type": "stream",
     "text": [
      "What is your name\n"
     ]
    }
   ],
   "source": [
    "name =\"Jeanndo\"\n",
    "\n",
    "if name ==\"Frankie\":\n",
    "    print(\"Hello Frankie\")\n",
    "elif name ==\"Sammy\":\n",
    "    print(\"Hello Sammy\")\n",
    "else:\n",
    "    print(\"What is your name\")"
   ]
  },
  {
   "cell_type": "code",
   "execution_count": null,
   "id": "69cf23fb-2128-479a-9abb-b6b88968f730",
   "metadata": {},
   "outputs": [],
   "source": []
  }
 ],
 "metadata": {
  "kernelspec": {
   "display_name": "Python 3 (ipykernel)",
   "language": "python",
   "name": "python3"
  },
  "language_info": {
   "codemirror_mode": {
    "name": "ipython",
    "version": 3
   },
   "file_extension": ".py",
   "mimetype": "text/x-python",
   "name": "python",
   "nbconvert_exporter": "python",
   "pygments_lexer": "ipython3",
   "version": "3.12.4"
  }
 },
 "nbformat": 4,
 "nbformat_minor": 5
}
