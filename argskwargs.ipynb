{
 "cells": [
  {
   "cell_type": "code",
   "execution_count": 2,
   "id": "0baec3f8-dcb4-4f43-a825-4c97ef867f45",
   "metadata": {},
   "outputs": [],
   "source": [
    "def my_func(a,b):\n",
    "    #returns 5% of the sum of a and b\n",
    "    return  sum((a,b))*0.05"
   ]
  },
  {
   "cell_type": "code",
   "execution_count": 4,
   "id": "1bd61f43-0f42-4803-a026-6c75ed15a53a",
   "metadata": {},
   "outputs": [
    {
     "data": {
      "text/plain": [
       "5.0"
      ]
     },
     "execution_count": 4,
     "metadata": {},
     "output_type": "execute_result"
    }
   ],
   "source": [
    "my_func(40,60)"
   ]
  },
  {
   "cell_type": "code",
   "execution_count": 6,
   "id": "cd246066-1bc5-41cc-8b11-881668ce4b84",
   "metadata": {},
   "outputs": [],
   "source": [
    "# WE CAN PASS MANY POSITIONAL ARGUMENTS WITHIN A FUNCTION\n",
    "\n",
    "def my_func(a,b,c=0,d=0,e=0,f=0):\n",
    "    #returns 5% of the sum of a and b\n",
    "    return  sum((a,b,c,d,e,f))*0.05"
   ]
  },
  {
   "cell_type": "code",
   "execution_count": 18,
   "id": "a6492aac-5043-4950-9bec-19348da545bc",
   "metadata": {},
   "outputs": [
    {
     "ename": "TypeError",
     "evalue": "my_func() takes from 2 to 6 positional arguments but 7 were given",
     "output_type": "error",
     "traceback": [
      "\u001b[1;31m---------------------------------------------------------------------------\u001b[0m",
      "\u001b[1;31mTypeError\u001b[0m                                 Traceback (most recent call last)",
      "Cell \u001b[1;32mIn[18], line 1\u001b[0m\n\u001b[1;32m----> 1\u001b[0m my_func(\u001b[38;5;241m40\u001b[39m,\u001b[38;5;241m60\u001b[39m,\u001b[38;5;241m10\u001b[39m,\u001b[38;5;241m500\u001b[39m,\u001b[38;5;241m3000\u001b[39m,\u001b[38;5;241m300\u001b[39m,\u001b[38;5;241m87\u001b[39m)\n",
      "\u001b[1;31mTypeError\u001b[0m: my_func() takes from 2 to 6 positional arguments but 7 were given"
     ]
    }
   ],
   "source": [
    "my_func(40,60,10,500,3000,300,87)"
   ]
  },
  {
   "cell_type": "code",
   "execution_count": 24,
   "id": "4f609585-5732-44bc-bd50-eaa93589599b",
   "metadata": {},
   "outputs": [],
   "source": [
    "\n",
    "def my_function(*args): # the use of * will treats args as tuple arguments passed inside a function\n",
    "    return sum(args)*0.05"
   ]
  },
  {
   "cell_type": "code",
   "execution_count": 26,
   "id": "0acebbab-2959-481b-90fb-b11c7fc31b0d",
   "metadata": {},
   "outputs": [
    {
     "data": {
      "text/plain": [
       "11.75"
      ]
     },
     "execution_count": 26,
     "metadata": {},
     "output_type": "execute_result"
    }
   ],
   "source": [
    "my_function(40,60,100,1,34)"
   ]
  },
  {
   "cell_type": "code",
   "execution_count": 40,
   "id": "c14951be-adac-41ff-8184-0c7afb9ca072",
   "metadata": {},
   "outputs": [],
   "source": [
    "# using **kwargs  the use of ** treats kwargs as a dictionary arigument passed inside a function\n",
    "\n",
    "def myfunc(**kwargs):\n",
    "\n",
    "    print(kwargs)\n",
    "    if \"fruit\" in kwargs:\n",
    "        print(\"my favorite fruit of choice is {}\".format(kwargs['fruit']))\n",
    "    else:\n",
    "        print(\"I did not find any fruit here\")\n",
    "        "
   ]
  },
  {
   "cell_type": "code",
   "execution_count": 42,
   "id": "e7ec28d9-bc66-43c2-8bc8-837f41868946",
   "metadata": {},
   "outputs": [
    {
     "name": "stdout",
     "output_type": "stream",
     "text": [
      "{'fruit': 'banana', 'veggi': 'dodo'}\n",
      "my favorite fruit of choice is banana\n"
     ]
    }
   ],
   "source": [
    "myfunc(fruit=\"banana\",veggi=\"dodo\")"
   ]
  },
  {
   "cell_type": "code",
   "execution_count": 48,
   "id": "df5c4d31-2ced-44a5-9a8d-68ae55040460",
   "metadata": {},
   "outputs": [],
   "source": [
    "def my_func(*args,**kwargs):\n",
    "    print(args)\n",
    "    print(kwargs)\n",
    "    print('my favorite number and food of choice are:{} and {}'.format(args[0],kwargs['food']))"
   ]
  },
  {
   "cell_type": "code",
   "execution_count": 52,
   "id": "e7091e75-167b-4c44-8d83-641f0899d4ac",
   "metadata": {},
   "outputs": [
    {
     "name": "stdout",
     "output_type": "stream",
     "text": [
      "(7, 1, 2, 3, 4, 5)\n",
      "{'drink': 'Mirinda', 'food': 'eggs'}\n",
      "my favorite number and food of choice are:7 and eggs\n"
     ]
    }
   ],
   "source": [
    "my_func(7,1,2,3,4,5,drink=\"Mirinda\",food=\"eggs\")"
   ]
  },
  {
   "cell_type": "code",
   "execution_count": null,
   "id": "5ab23d24-d1ae-465e-ac0b-85451a15ac86",
   "metadata": {},
   "outputs": [],
   "source": []
  }
 ],
 "metadata": {
  "kernelspec": {
   "display_name": "Python 3 (ipykernel)",
   "language": "python",
   "name": "python3"
  },
  "language_info": {
   "codemirror_mode": {
    "name": "ipython",
    "version": 3
   },
   "file_extension": ".py",
   "mimetype": "text/x-python",
   "name": "python",
   "nbconvert_exporter": "python",
   "pygments_lexer": "ipython3",
   "version": "3.12.4"
  }
 },
 "nbformat": 4,
 "nbformat_minor": 5
}
