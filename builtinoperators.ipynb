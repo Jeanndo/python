{
 "cells": [
  {
   "cell_type": "code",
   "execution_count": 4,
   "id": "0918f1a9-0756-484c-bd00-c1e3ebb3201b",
   "metadata": {},
   "outputs": [
    {
     "name": "stdout",
     "output_type": "stream",
     "text": [
      "3\n",
      "4\n",
      "5\n",
      "6\n",
      "7\n",
      "8\n",
      "9\n"
     ]
    }
   ],
   "source": [
    "for num in range(3,10):\n",
    "    print(num)"
   ]
  },
  {
   "cell_type": "code",
   "execution_count": 8,
   "id": "63b688b1-f891-47ec-b428-fcfec6eba02c",
   "metadata": {},
   "outputs": [
    {
     "name": "stdout",
     "output_type": "stream",
     "text": [
      "0\n",
      "2\n",
      "4\n",
      "6\n",
      "8\n",
      "10\n"
     ]
    }
   ],
   "source": [
    "for num in range(0,11,2):  #added starting index ending index but not included and stepsize\n",
    "    print(num)"
   ]
  },
  {
   "cell_type": "code",
   "execution_count": 10,
   "id": "747f3f82-328c-443f-99b9-bc05efb23516",
   "metadata": {},
   "outputs": [
    {
     "data": {
      "text/plain": [
       "[0, 2, 4, 6, 8, 10]"
      ]
     },
     "execution_count": 10,
     "metadata": {},
     "output_type": "execute_result"
    }
   ],
   "source": [
    "#GENERATING A LIST FORM A RANGE\n",
    "list(range(0,12,2))"
   ]
  },
  {
   "cell_type": "code",
   "execution_count": 12,
   "id": "f4179c04-28d6-47be-aaa0-9a936a17c765",
   "metadata": {},
   "outputs": [
    {
     "name": "stdout",
     "output_type": "stream",
     "text": [
      "At index 0 the letter is a\n",
      "At index 1 the letter is b\n",
      "At index 2 the letter is c\n",
      "At index 3 the letter is d\n",
      "At index 4 the letter is e\n",
      "At index 5 the letter is f\n"
     ]
    }
   ],
   "source": [
    "index_counter =0\n",
    "\n",
    "for letter in \"abcdef\":\n",
    "    print(\"At index {} the letter is {}\".format(index_counter,letter))\n",
    "    index_counter+=1"
   ]
  },
  {
   "cell_type": "code",
   "execution_count": 14,
   "id": "8a78a319-9f14-4e78-89bc-90192bd0fe56",
   "metadata": {},
   "outputs": [
    {
     "name": "stdout",
     "output_type": "stream",
     "text": [
      "b\n",
      "c\n",
      "d\n",
      "e\n",
      "f\n"
     ]
    }
   ],
   "source": [
    "index_counter =0\n",
    "word =\"bcdef\"\n",
    "\n",
    "for letter in word:\n",
    "    print(word[index_counter])\n",
    "    index_counter+=1"
   ]
  },
  {
   "cell_type": "code",
   "execution_count": 16,
   "id": "47f72c3c-d864-452c-887c-6d43c49a0766",
   "metadata": {},
   "outputs": [
    {
     "name": "stdout",
     "output_type": "stream",
     "text": [
      "0\n",
      "b\n",
      "\n",
      "\n",
      "1\n",
      "c\n",
      "\n",
      "\n",
      "2\n",
      "d\n",
      "\n",
      "\n",
      "3\n",
      "e\n",
      "\n",
      "\n",
      "4\n",
      "f\n",
      "\n",
      "\n"
     ]
    }
   ],
   "source": [
    "#ENUMERATE FUNCTION\n",
    "for index,letter in enumerate(word):\n",
    "    print(index)\n",
    "    print(letter)\n",
    "    print(\"\\n\")"
   ]
  },
  {
   "cell_type": "code",
   "execution_count": 18,
   "id": "d1ec54e7-4a35-4d6e-b935-45941a2b4f35",
   "metadata": {},
   "outputs": [
    {
     "name": "stdout",
     "output_type": "stream",
     "text": [
      "(0, 'b')\n",
      "(1, 'c')\n",
      "(2, 'd')\n",
      "(3, 'e')\n",
      "(4, 'f')\n"
     ]
    }
   ],
   "source": [
    "for item in enumerate(word):\n",
    "    print(item)"
   ]
  },
  {
   "cell_type": "code",
   "execution_count": 20,
   "id": "7dc5fce2-93a2-4149-be88-4d8124c64e6a",
   "metadata": {},
   "outputs": [
    {
     "name": "stdout",
     "output_type": "stream",
     "text": [
      "(1, 'a', 100)\n",
      "(2, 'b', 200)\n",
      "(3, 'c', 300)\n"
     ]
    }
   ],
   "source": [
    "#ZIP FUNCTION\n",
    "\n",
    "list1 =[1,2,3]\n",
    "list2 = [\"a\",\"b\",\"c\"]\n",
    "list3 = [100,200,300]\n",
    "\n",
    "for item in zip(list1,list2,list3):\n",
    "    print(item)"
   ]
  },
  {
   "cell_type": "code",
   "execution_count": 22,
   "id": "c60bffcb-d923-4549-a033-cabfa6392e3c",
   "metadata": {},
   "outputs": [
    {
     "name": "stdout",
     "output_type": "stream",
     "text": [
      "a\n",
      "b\n",
      "c\n"
     ]
    }
   ],
   "source": [
    "#tuple unpacking on zipped data\n",
    "\n",
    "for a,b,c in zip(list1,list2,list3):\n",
    "    print(b)"
   ]
  },
  {
   "cell_type": "code",
   "execution_count": 24,
   "id": "5ea770ca-81f5-498a-acbb-252d8df9e69d",
   "metadata": {},
   "outputs": [
    {
     "data": {
      "text/plain": [
       "[(1, 'a', 100), (2, 'b', 200), (3, 'c', 300)]"
      ]
     },
     "execution_count": 24,
     "metadata": {},
     "output_type": "execute_result"
    }
   ],
   "source": [
    "#MAKING A LIST FROM ZIPPED DATA\n",
    "\n",
    "list(zip(list1,list2,list3))"
   ]
  },
  {
   "cell_type": "code",
   "execution_count": 26,
   "id": "b12bcdce-7ae5-4cd1-9adb-0344715259f9",
   "metadata": {},
   "outputs": [
    {
     "data": {
      "text/plain": [
       "True"
      ]
     },
     "execution_count": 26,
     "metadata": {},
     "output_type": "execute_result"
    }
   ],
   "source": [
    "#checking if something is in a list or dictionary\n",
    "\n",
    "list4 = [1,2,3,4]\n",
    "\n",
    "2 in list4"
   ]
  },
  {
   "cell_type": "code",
   "execution_count": 28,
   "id": "780fa1e3-2077-4cf2-a9e4-032a88a6b5cf",
   "metadata": {},
   "outputs": [
    {
     "data": {
      "text/plain": [
       "True"
      ]
     },
     "execution_count": 28,
     "metadata": {},
     "output_type": "execute_result"
    }
   ],
   "source": [
    "wordQuote = \"I will learn untill i did it\"\n",
    "\"u\" in wordQuote"
   ]
  },
  {
   "cell_type": "code",
   "execution_count": 30,
   "id": "05173318-1db9-444b-8317-9edbddca93e5",
   "metadata": {},
   "outputs": [
    {
     "data": {
      "text/plain": [
       "True"
      ]
     },
     "execution_count": 30,
     "metadata": {},
     "output_type": "execute_result"
    }
   ],
   "source": [
    "d ={\"mykey\":123}\n",
    "\"mykey\" in d"
   ]
  },
  {
   "cell_type": "code",
   "execution_count": 32,
   "id": "1b0ffe4a-e1b3-4ca3-8497-d96d702f730a",
   "metadata": {},
   "outputs": [
    {
     "data": {
      "text/plain": [
       "True"
      ]
     },
     "execution_count": 32,
     "metadata": {},
     "output_type": "execute_result"
    }
   ],
   "source": [
    "123 in d.values()"
   ]
  },
  {
   "cell_type": "code",
   "execution_count": 34,
   "id": "82a9efe6-c422-44ab-a52f-33f3499ff0cd",
   "metadata": {},
   "outputs": [
    {
     "data": {
      "text/plain": [
       "1"
      ]
     },
     "execution_count": 34,
     "metadata": {},
     "output_type": "execute_result"
    }
   ],
   "source": [
    "#min and max functions\n",
    "\n",
    "mylist =[1,200,300,2,4,5990]\n",
    "\n",
    "min(mylist)"
   ]
  },
  {
   "cell_type": "code",
   "execution_count": 36,
   "id": "c73dbc82-7b34-4742-9db5-42d187e383a5",
   "metadata": {},
   "outputs": [
    {
     "data": {
      "text/plain": [
       "5990"
      ]
     },
     "execution_count": 36,
     "metadata": {},
     "output_type": "execute_result"
    }
   ],
   "source": [
    "max(mylist)"
   ]
  },
  {
   "cell_type": "code",
   "execution_count": 38,
   "id": "783f1846-21ff-48a7-a5f8-870fc5674570",
   "metadata": {},
   "outputs": [],
   "source": [
    "#RANDOM FUNCTION"
   ]
  },
  {
   "cell_type": "code",
   "execution_count": 44,
   "id": "d674f73d-2167-446e-a135-b4a8114c19e8",
   "metadata": {},
   "outputs": [],
   "source": [
    "\n",
    "mynumbers =[1,2,3,4,5,6,7,8,9,10]\n",
    "\n",
    "from random import shuffle\n",
    "\n",
    "shuffle(mynumbers)\n",
    "\n"
   ]
  },
  {
   "cell_type": "code",
   "execution_count": 46,
   "id": "176b4e4b-a8e6-4290-ac04-b96188b949c2",
   "metadata": {},
   "outputs": [
    {
     "data": {
      "text/plain": [
       "[4, 8, 7, 10, 6, 3, 2, 9, 1, 5]"
      ]
     },
     "execution_count": 46,
     "metadata": {},
     "output_type": "execute_result"
    }
   ],
   "source": [
    "mynumbers"
   ]
  },
  {
   "cell_type": "code",
   "execution_count": 48,
   "id": "6e3f21a0-1c02-48ad-a758-71db79503330",
   "metadata": {},
   "outputs": [],
   "source": [
    "#GENERATE RANDON INTEGER"
   ]
  },
  {
   "cell_type": "code",
   "execution_count": 52,
   "id": "5f474712-80b2-4b06-b11f-d8f7504bf996",
   "metadata": {},
   "outputs": [
    {
     "data": {
      "text/plain": [
       "886"
      ]
     },
     "execution_count": 52,
     "metadata": {},
     "output_type": "execute_result"
    }
   ],
   "source": [
    "from random import randint\n",
    "randint(0,1000)"
   ]
  },
  {
   "cell_type": "code",
   "execution_count": 54,
   "id": "660cdbf1-e36b-45f0-b7cc-cd2ae94740f2",
   "metadata": {},
   "outputs": [
    {
     "data": {
      "text/plain": [
       "821"
      ]
     },
     "execution_count": 54,
     "metadata": {},
     "output_type": "execute_result"
    }
   ],
   "source": [
    "randint(0,1000)"
   ]
  },
  {
   "cell_type": "code",
   "execution_count": 56,
   "id": "ded5d918-2e43-4ff2-9da3-f319d223a6d2",
   "metadata": {},
   "outputs": [],
   "source": [
    "mynum = randint(0,100)"
   ]
  },
  {
   "cell_type": "code",
   "execution_count": 58,
   "id": "2e714bec-aab7-4089-bfff-af7b22d73e65",
   "metadata": {},
   "outputs": [
    {
     "data": {
      "text/plain": [
       "7"
      ]
     },
     "execution_count": 58,
     "metadata": {},
     "output_type": "execute_result"
    }
   ],
   "source": [
    "mynum"
   ]
  },
  {
   "cell_type": "code",
   "execution_count": 60,
   "id": "9120d62e-d8aa-4862-baa4-bfd631f95493",
   "metadata": {},
   "outputs": [],
   "source": [
    "#INPUT FUNCTION"
   ]
  },
  {
   "cell_type": "code",
   "execution_count": 62,
   "id": "e02bf4c8-e077-43d4-b675-d0d5311c5ec7",
   "metadata": {},
   "outputs": [
    {
     "name": "stdin",
     "output_type": "stream",
     "text": [
      "what is your name? Jeanndo\n"
     ]
    }
   ],
   "source": [
    "result = input(\"what is your name?\")"
   ]
  },
  {
   "cell_type": "code",
   "execution_count": 64,
   "id": "7c672ca3-b5e6-4dd5-8f78-21ec4d5a1750",
   "metadata": {},
   "outputs": [
    {
     "data": {
      "text/plain": [
       "'Jeanndo'"
      ]
     },
     "execution_count": 64,
     "metadata": {},
     "output_type": "execute_result"
    }
   ],
   "source": [
    "result"
   ]
  },
  {
   "cell_type": "code",
   "execution_count": 66,
   "id": "090a712a-6f00-4204-a3bd-30c5e38d0a53",
   "metadata": {},
   "outputs": [],
   "source": [
    "#CASTING STRING FROM INPUT"
   ]
  },
  {
   "cell_type": "code",
   "execution_count": 70,
   "id": "89605735-d8f6-4ee9-945f-6082393f55e0",
   "metadata": {},
   "outputs": [
    {
     "name": "stdin",
     "output_type": "stream",
     "text": [
      "What is your favorite number: 10\n"
     ]
    }
   ],
   "source": [
    "result = int(input(\"What is your favorite number:\"))"
   ]
  },
  {
   "cell_type": "code",
   "execution_count": 72,
   "id": "e0f26bb2-4898-4156-9714-1642fa9f6b4d",
   "metadata": {},
   "outputs": [
    {
     "data": {
      "text/plain": [
       "10"
      ]
     },
     "execution_count": 72,
     "metadata": {},
     "output_type": "execute_result"
    }
   ],
   "source": [
    "result "
   ]
  },
  {
   "cell_type": "code",
   "execution_count": null,
   "id": "4d3338e1-e364-4303-91f2-0ae6c188ff74",
   "metadata": {},
   "outputs": [],
   "source": []
  }
 ],
 "metadata": {
  "kernelspec": {
   "display_name": "Python 3 (ipykernel)",
   "language": "python",
   "name": "python3"
  },
  "language_info": {
   "codemirror_mode": {
    "name": "ipython",
    "version": 3
   },
   "file_extension": ".py",
   "mimetype": "text/x-python",
   "name": "python",
   "nbconvert_exporter": "python",
   "pygments_lexer": "ipython3",
   "version": "3.12.4"
  }
 },
 "nbformat": 4,
 "nbformat_minor": 5
}
