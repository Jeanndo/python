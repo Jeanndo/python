{
 "cells": [
  {
   "cell_type": "code",
   "execution_count": 2,
   "id": "5b8a36dd-9470-4dc5-a5fa-3f48172263fa",
   "metadata": {},
   "outputs": [],
   "source": [
    "x = 25\n",
    "\n",
    "def printer():\n",
    "    x = 50\n",
    "    return x"
   ]
  },
  {
   "cell_type": "code",
   "execution_count": 4,
   "id": "b741bff0-81e8-43e7-9464-3d5a509c88e5",
   "metadata": {},
   "outputs": [
    {
     "name": "stdout",
     "output_type": "stream",
     "text": [
      "25\n"
     ]
    }
   ],
   "source": [
    "print(x)"
   ]
  },
  {
   "cell_type": "code",
   "execution_count": 6,
   "id": "2d4c466a-649c-43c4-95e4-5c0d20f9bb07",
   "metadata": {},
   "outputs": [
    {
     "name": "stdout",
     "output_type": "stream",
     "text": [
      "50\n"
     ]
    }
   ],
   "source": [
    "print(printer())"
   ]
  },
  {
   "cell_type": "code",
   "execution_count": 20,
   "id": "3d4699f3-c7c8-4ddf-852a-94081763914f",
   "metadata": {},
   "outputs": [],
   "source": [
    "x = 50\n",
    "\n",
    "def func():\n",
    "    global x  #GLOBAL KEYWARD\n",
    "    print(f\"x is {x}\")\n",
    "\n",
    "# LOCAL REASSIGNMENT ON A GLOBAL VARIABLE@\n",
    "    x = \"NEW VALUE\"\n",
    "    print(f\"I JUST LOCALLY CHANGES X TO {x}\")"
   ]
  },
  {
   "cell_type": "code",
   "execution_count": 22,
   "id": "3cdb545e-324d-4b30-b0dc-659ff89c4014",
   "metadata": {},
   "outputs": [
    {
     "name": "stdout",
     "output_type": "stream",
     "text": [
      "x is 50\n",
      "I JUST LOCALLY CHANGES X TO NEW VALUE\n"
     ]
    }
   ],
   "source": [
    "func()"
   ]
  },
  {
   "cell_type": "code",
   "execution_count": 24,
   "id": "02a9acc6-59da-4b13-9fd9-42fabf56bdfd",
   "metadata": {},
   "outputs": [
    {
     "name": "stdout",
     "output_type": "stream",
     "text": [
      "NEW VALUE\n"
     ]
    }
   ],
   "source": [
    "print(x)"
   ]
  },
  {
   "cell_type": "code",
   "execution_count": null,
   "id": "69d8da54-e784-4de8-92ec-dd98dfa5c65c",
   "metadata": {},
   "outputs": [],
   "source": []
  }
 ],
 "metadata": {
  "kernelspec": {
   "display_name": "Python 3 (ipykernel)",
   "language": "python",
   "name": "python3"
  },
  "language_info": {
   "codemirror_mode": {
    "name": "ipython",
    "version": 3
   },
   "file_extension": ".py",
   "mimetype": "text/x-python",
   "name": "python",
   "nbconvert_exporter": "python",
   "pygments_lexer": "ipython3",
   "version": "3.12.4"
  }
 },
 "nbformat": 4,
 "nbformat_minor": 5
}
