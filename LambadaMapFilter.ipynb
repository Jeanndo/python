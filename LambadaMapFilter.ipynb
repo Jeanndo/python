{
 "cells": [
  {
   "cell_type": "code",
   "execution_count": 2,
   "id": "06b47aa5-ac93-46f7-9eda-ea27ff2c292a",
   "metadata": {},
   "outputs": [],
   "source": [
    "def square(num):\n",
    "    return num**2"
   ]
  },
  {
   "cell_type": "code",
   "execution_count": 4,
   "id": "8870eb04-be5f-4023-b600-75e8982e146c",
   "metadata": {},
   "outputs": [],
   "source": [
    "my_nums = [1,2,3,4,5]"
   ]
  },
  {
   "cell_type": "code",
   "execution_count": 8,
   "id": "07a6bd54-9946-4a8f-8489-f3a30704e515",
   "metadata": {},
   "outputs": [
    {
     "name": "stdout",
     "output_type": "stream",
     "text": [
      "1\n",
      "4\n",
      "9\n",
      "16\n",
      "25\n"
     ]
    }
   ],
   "source": [
    "for item in map(square,my_nums):\n",
    "    print (item)"
   ]
  },
  {
   "cell_type": "code",
   "execution_count": 12,
   "id": "dca9a342-c577-4158-b69b-6c3e67fbed1d",
   "metadata": {},
   "outputs": [
    {
     "data": {
      "text/plain": [
       "[1, 4, 9, 16, 25]"
      ]
     },
     "execution_count": 12,
     "metadata": {},
     "output_type": "execute_result"
    }
   ],
   "source": [
    "list(map(square,my_nums))"
   ]
  },
  {
   "cell_type": "code",
   "execution_count": 14,
   "id": "20abef81-d245-443e-a4f0-865db4fdf98e",
   "metadata": {},
   "outputs": [],
   "source": [
    "def splicer(mystring):\n",
    "    if len(mystring)%2==0:\n",
    "        return \"EVEN\"\n",
    "    else:\n",
    "        return mystring[0]"
   ]
  },
  {
   "cell_type": "code",
   "execution_count": 16,
   "id": "25c22a3b-a693-460c-94ca-2a30efb59803",
   "metadata": {},
   "outputs": [],
   "source": [
    "names = [\"andy\",\"Eve\",\"Sally\"]\n"
   ]
  },
  {
   "cell_type": "code",
   "execution_count": 18,
   "id": "c98ac7ed-9f53-41f9-aeb2-70d15fd7cb3d",
   "metadata": {},
   "outputs": [
    {
     "data": {
      "text/plain": [
       "['EVEN', 'E', 'S']"
      ]
     },
     "execution_count": 18,
     "metadata": {},
     "output_type": "execute_result"
    }
   ],
   "source": [
    "list(map(splicer,names))"
   ]
  },
  {
   "cell_type": "code",
   "execution_count": 20,
   "id": "00a6a73d-701c-47a8-8621-532c8bdb7723",
   "metadata": {},
   "outputs": [],
   "source": [
    "def check_even(num):\n",
    "    return num%2==0"
   ]
  },
  {
   "cell_type": "code",
   "execution_count": 22,
   "id": "20c3e141-be43-49ed-bca9-bebee52baf29",
   "metadata": {},
   "outputs": [],
   "source": [
    "mynums = [1,2,3,4,5,6]"
   ]
  },
  {
   "cell_type": "code",
   "execution_count": 24,
   "id": "c7325acd-33e7-4b4e-ba0c-5f21314a96e3",
   "metadata": {},
   "outputs": [
    {
     "data": {
      "text/plain": [
       "<filter at 0x218eeeef040>"
      ]
     },
     "execution_count": 24,
     "metadata": {},
     "output_type": "execute_result"
    }
   ],
   "source": [
    "filter(check_even,mynums)"
   ]
  },
  {
   "cell_type": "code",
   "execution_count": 26,
   "id": "04c8040d-d5c0-45f7-bd28-e485b81d1d8f",
   "metadata": {},
   "outputs": [
    {
     "data": {
      "text/plain": [
       "[2, 4, 6]"
      ]
     },
     "execution_count": 26,
     "metadata": {},
     "output_type": "execute_result"
    }
   ],
   "source": [
    "list(filter(check_even,mynums))"
   ]
  },
  {
   "cell_type": "code",
   "execution_count": 28,
   "id": "b52e3bd9-0299-4d6a-b0e8-8a90f702a7a6",
   "metadata": {},
   "outputs": [
    {
     "name": "stdout",
     "output_type": "stream",
     "text": [
      "2\n",
      "4\n",
      "6\n"
     ]
    }
   ],
   "source": [
    "for n in filter(check_even,mynums):\n",
    "    print(n)"
   ]
  },
  {
   "cell_type": "code",
   "execution_count": 30,
   "id": "0f31f54d-3c4f-4238-8513-a06e280419bb",
   "metadata": {},
   "outputs": [],
   "source": [
    "#Lambada expression"
   ]
  },
  {
   "cell_type": "code",
   "execution_count": 33,
   "id": "230edc82-237e-4955-b87d-598d8a17e43c",
   "metadata": {},
   "outputs": [],
   "source": [
    "filter(check_even,mynums)"
   ]
  },
  {
   "cell_type": "code",
   "execution_count": 37,
   "id": "70a1cba4-e5aa-433c-8983-4bf53b46a407",
   "metadata": {},
   "outputs": [],
   "source": [
    "def square(num):\n",
    "    result = num**2\n",
    "    return result"
   ]
  },
  {
   "cell_type": "code",
   "execution_count": 39,
   "id": "c547c1c1-93e8-4c85-accd-0f3459765363",
   "metadata": {},
   "outputs": [
    {
     "data": {
      "text/plain": [
       "9"
      ]
     },
     "execution_count": 39,
     "metadata": {},
     "output_type": "execute_result"
    }
   ],
   "source": [
    "square(3)"
   ]
  },
  {
   "cell_type": "code",
   "execution_count": 41,
   "id": "657882c7-7b6d-4f9f-b051-6cfd3eae367d",
   "metadata": {},
   "outputs": [],
   "source": [
    "#simple way\n",
    "\n",
    "def square(num): \n",
    "    return num**2"
   ]
  },
  {
   "cell_type": "code",
   "execution_count": 43,
   "id": "6584579a-e2fc-473a-ad25-63a5fa5f237b",
   "metadata": {},
   "outputs": [
    {
     "data": {
      "text/plain": [
       "9"
      ]
     },
     "execution_count": 43,
     "metadata": {},
     "output_type": "execute_result"
    }
   ],
   "source": [
    "square(3)"
   ]
  },
  {
   "cell_type": "code",
   "execution_count": 45,
   "id": "1bda5b6e-d9a7-484c-81b7-1737fb165a71",
   "metadata": {},
   "outputs": [],
   "source": [
    "def square(num):return num**2"
   ]
  },
  {
   "cell_type": "code",
   "execution_count": 47,
   "id": "d985a0eb-0ddf-4fb3-ab87-792453d58218",
   "metadata": {},
   "outputs": [
    {
     "data": {
      "text/plain": [
       "4"
      ]
     },
     "execution_count": 47,
     "metadata": {},
     "output_type": "execute_result"
    }
   ],
   "source": [
    "square(2)"
   ]
  },
  {
   "cell_type": "code",
   "execution_count": 49,
   "id": "155d158f-44a8-4201-a648-b470b8c343dd",
   "metadata": {},
   "outputs": [],
   "source": [
    "square = lambda num: num**2"
   ]
  },
  {
   "cell_type": "code",
   "execution_count": 51,
   "id": "68d8ca7f-a5c0-4bcb-a3aa-897cae5ffac0",
   "metadata": {},
   "outputs": [
    {
     "data": {
      "text/plain": [
       "16"
      ]
     },
     "execution_count": 51,
     "metadata": {},
     "output_type": "execute_result"
    }
   ],
   "source": [
    "square(4)"
   ]
  },
  {
   "cell_type": "code",
   "execution_count": 53,
   "id": "51dcbbc9-d1be-4b1a-94ef-99e2b4349586",
   "metadata": {},
   "outputs": [
    {
     "data": {
      "text/plain": [
       "[1, 4, 9, 16, 25, 36]"
      ]
     },
     "execution_count": 53,
     "metadata": {},
     "output_type": "execute_result"
    }
   ],
   "source": [
    "list(map(lambda num:num**2,mynums))"
   ]
  },
  {
   "cell_type": "code",
   "execution_count": 55,
   "id": "19cc1717-97a7-4b57-9de6-a3ba39106e09",
   "metadata": {},
   "outputs": [
    {
     "data": {
      "text/plain": [
       "[2, 4, 6]"
      ]
     },
     "execution_count": 55,
     "metadata": {},
     "output_type": "execute_result"
    }
   ],
   "source": [
    "list(filter(lambda num:num%2==0,mynums))"
   ]
  },
  {
   "cell_type": "code",
   "execution_count": 63,
   "id": "c652d2f0-a5f8-4854-bf8a-aaaa1307078c",
   "metadata": {},
   "outputs": [
    {
     "data": {
      "text/plain": [
       "['a', 'E', 'S']"
      ]
     },
     "execution_count": 63,
     "metadata": {},
     "output_type": "execute_result"
    }
   ],
   "source": [
    "list(map(lambda name:name[0],names))"
   ]
  },
  {
   "cell_type": "code",
   "execution_count": null,
   "id": "60c2988a-f2a6-4cbe-bd16-6a16e29f6729",
   "metadata": {},
   "outputs": [],
   "source": []
  }
 ],
 "metadata": {
  "kernelspec": {
   "display_name": "Python 3 (ipykernel)",
   "language": "python",
   "name": "python3"
  },
  "language_info": {
   "codemirror_mode": {
    "name": "ipython",
    "version": 3
   },
   "file_extension": ".py",
   "mimetype": "text/x-python",
   "name": "python",
   "nbconvert_exporter": "python",
   "pygments_lexer": "ipython3",
   "version": "3.12.4"
  }
 },
 "nbformat": 4,
 "nbformat_minor": 5
}
