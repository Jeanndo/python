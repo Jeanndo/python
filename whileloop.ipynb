{
 "cells": [
  {
   "cell_type": "code",
   "execution_count": 12,
   "id": "1527ff3e-a002-4a1e-a24b-ec649aca9cc6",
   "metadata": {},
   "outputs": [
    {
     "name": "stdout",
     "output_type": "stream",
     "text": [
      "the current value of x is:0\n",
      "the current value of x is:1\n",
      "the current value of x is:2\n",
      "the current value of x is:3\n",
      "the current value of x is:4\n",
      "x is not less than 5\n"
     ]
    }
   ],
   "source": [
    "x=0\n",
    "\n",
    "while x<5:\n",
    "    print(f\"the current value of x is:{x}\")\n",
    "    \n",
    "    x+=1\n",
    "else:\n",
    "    print(\"x is not less than 5\")"
   ]
  },
  {
   "cell_type": "code",
   "execution_count": 14,
   "id": "482549c0-bfac-45c1-ba44-3a0945ac516f",
   "metadata": {},
   "outputs": [
    {
     "name": "stdout",
     "output_type": "stream",
     "text": [
      "I am passing away from loop\n"
     ]
    }
   ],
   "source": [
    "#PASS STATEMENT\n",
    "\n",
    "x =[1,2,3,4,5]\n",
    "\n",
    "for item in x:\n",
    "    pass\n",
    "print(\"I am passing away from loop\")"
   ]
  },
  {
   "cell_type": "code",
   "execution_count": 16,
   "id": "f9d0d263-c1cb-45be-9085-025df4d52a8a",
   "metadata": {},
   "outputs": [
    {
     "name": "stdout",
     "output_type": "stream",
     "text": [
      "J\n",
      "e\n",
      "a\n",
      "d\n",
      "o\n"
     ]
    }
   ],
   "source": [
    "#CONTINUE STATEMENT\n",
    "\n",
    "mystring =\"Jeanndo\"\n",
    "\n",
    "for letter in mystring:\n",
    "    if letter==\"n\":\n",
    "        continue\n",
    "    print(letter)"
   ]
  },
  {
   "cell_type": "code",
   "execution_count": 18,
   "id": "8ddaa455-fc57-4e31-b101-e659c2311d6b",
   "metadata": {},
   "outputs": [
    {
     "name": "stdout",
     "output_type": "stream",
     "text": [
      "J\n",
      "e\n",
      "a\n"
     ]
    }
   ],
   "source": [
    "#BREK STATEMENT \n",
    "\n",
    "for letter in mystring:\n",
    "    if letter==\"n\":\n",
    "        break\n",
    "    print(letter)"
   ]
  },
  {
   "cell_type": "code",
   "execution_count": 20,
   "id": "1585cb74-e064-4fbd-b084-ac1f2c1b7ed5",
   "metadata": {},
   "outputs": [
    {
     "name": "stdout",
     "output_type": "stream",
     "text": [
      "0\n",
      "1\n"
     ]
    }
   ],
   "source": [
    "x =0\n",
    "\n",
    "while x<5:\n",
    "    if x==2:\n",
    "        break\n",
    "    print(x)\n",
    "    x+=1"
   ]
  },
  {
   "cell_type": "code",
   "execution_count": null,
   "id": "7742f966-b0cc-4443-abdf-8d45b378c06f",
   "metadata": {},
   "outputs": [],
   "source": []
  }
 ],
 "metadata": {
  "kernelspec": {
   "display_name": "Python 3 (ipykernel)",
   "language": "python",
   "name": "python3"
  },
  "language_info": {
   "codemirror_mode": {
    "name": "ipython",
    "version": 3
   },
   "file_extension": ".py",
   "mimetype": "text/x-python",
   "name": "python",
   "nbconvert_exporter": "python",
   "pygments_lexer": "ipython3",
   "version": "3.12.4"
  }
 },
 "nbformat": 4,
 "nbformat_minor": 5
}
