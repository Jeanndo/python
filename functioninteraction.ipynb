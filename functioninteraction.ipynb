{
 "cells": [
  {
   "cell_type": "code",
   "execution_count": 4,
   "id": "6745a1e0-44e2-4323-95b5-fbe8a540258b",
   "metadata": {},
   "outputs": [],
   "source": [
    "from random import shuffle\n",
    "\n",
    "my_list =[\" \",\"O\",\" \"]\n"
   ]
  },
  {
   "cell_type": "code",
   "execution_count": 6,
   "id": "a90b27b1-e53b-4541-ab9a-fea9792c1473",
   "metadata": {},
   "outputs": [],
   "source": [
    "def shuffle_list(mylist):\n",
    "    shuffle(mylist)\n",
    "    return mylist"
   ]
  },
  {
   "cell_type": "code",
   "execution_count": 20,
   "id": "6cab17c2-a7f6-4686-b597-f6db052da45a",
   "metadata": {},
   "outputs": [
    {
     "data": {
      "text/plain": [
       "['O', ' ', ' ']"
      ]
     },
     "execution_count": 20,
     "metadata": {},
     "output_type": "execute_result"
    }
   ],
   "source": [
    "shuffle_list(my_list)"
   ]
  },
  {
   "cell_type": "code",
   "execution_count": 26,
   "id": "5d639e5b-73aa-465d-9251-26e2bf7e51ce",
   "metadata": {},
   "outputs": [],
   "source": [
    "def player_guess():\n",
    "    guess = \"\"\n",
    "\n",
    "    while guess not in ['0','1','2']:\n",
    "        \n",
    "        guess = input(\"please choose a number between 0,1, and 2\")\n",
    "    return int(guess)\n",
    "    "
   ]
  },
  {
   "cell_type": "code",
   "execution_count": 28,
   "id": "71397d0c-0f22-4787-82fa-36ff72aea0d7",
   "metadata": {},
   "outputs": [
    {
     "name": "stdin",
     "output_type": "stream",
     "text": [
      "please choose a number between 0,1, and 2 7\n",
      "please choose a number between 0,1, and 2 1\n"
     ]
    },
    {
     "data": {
      "text/plain": [
       "1"
      ]
     },
     "execution_count": 28,
     "metadata": {},
     "output_type": "execute_result"
    }
   ],
   "source": [
    "player_guess()"
   ]
  },
  {
   "cell_type": "code",
   "execution_count": 30,
   "id": "6744eadc-8841-4ab6-9e05-184cb0f0704d",
   "metadata": {},
   "outputs": [],
   "source": [
    "def check_guess(mylist,guess):\n",
    "    if mylist[guess]==\"O\":\n",
    "         print(\"CORRECT!\")\n",
    "    else:\n",
    "        print(\"WRONG!\")\n",
    "        print(mylist)\n",
    "        "
   ]
  },
  {
   "cell_type": "code",
   "execution_count": 36,
   "id": "02959f46-4127-43b1-bdd8-11751d5689cf",
   "metadata": {},
   "outputs": [
    {
     "name": "stdin",
     "output_type": "stream",
     "text": [
      "please choose a number between 0,1, and 2 2\n"
     ]
    },
    {
     "name": "stdout",
     "output_type": "stream",
     "text": [
      "WRONG!\n",
      "['O', ' ', ' ']\n"
     ]
    }
   ],
   "source": [
    "# initiate\n",
    "mylist = [\" \",\"O\",\" \"]\n",
    "\n",
    "result_list = shuffle_list(mylist)\n",
    "\n",
    "guess = player_guess()\n",
    "\n",
    "check_guess(result_list,guess)"
   ]
  },
  {
   "cell_type": "code",
   "execution_count": null,
   "id": "e6f479ce-72d1-41dd-8aed-d740245df7be",
   "metadata": {},
   "outputs": [],
   "source": []
  }
 ],
 "metadata": {
  "kernelspec": {
   "display_name": "Python 3 (ipykernel)",
   "language": "python",
   "name": "python3"
  },
  "language_info": {
   "codemirror_mode": {
    "name": "ipython",
    "version": 3
   },
   "file_extension": ".py",
   "mimetype": "text/x-python",
   "name": "python",
   "nbconvert_exporter": "python",
   "pygments_lexer": "ipython3",
   "version": "3.12.4"
  }
 },
 "nbformat": 4,
 "nbformat_minor": 5
}
