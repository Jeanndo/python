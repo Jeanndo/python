{
 "cells": [
  {
   "cell_type": "code",
   "execution_count": 1,
   "id": "52a64a76-dde2-4ce5-a12c-a41949726264",
   "metadata": {},
   "outputs": [],
   "source": [
    "my_list =[1,2,3]"
   ]
  },
  {
   "cell_type": "code",
   "execution_count": 3,
   "id": "70ef1f18-f5fe-4695-babb-9ba446255296",
   "metadata": {},
   "outputs": [],
   "source": [
    "my_list = [\"string\",100,23.2]"
   ]
  },
  {
   "cell_type": "code",
   "execution_count": 5,
   "id": "06dd5ce8-0afa-4c95-bd67-1cada3289a81",
   "metadata": {},
   "outputs": [
    {
     "data": {
      "text/plain": [
       "['string', 100, 23.2]"
      ]
     },
     "execution_count": 5,
     "metadata": {},
     "output_type": "execute_result"
    }
   ],
   "source": [
    "my_list"
   ]
  },
  {
   "cell_type": "code",
   "execution_count": 7,
   "id": "c980ac41-398a-436e-8fc3-fcafb132e40f",
   "metadata": {},
   "outputs": [
    {
     "data": {
      "text/plain": [
       "3"
      ]
     },
     "execution_count": 7,
     "metadata": {},
     "output_type": "execute_result"
    }
   ],
   "source": [
    "len(my_list)"
   ]
  },
  {
   "cell_type": "code",
   "execution_count": 9,
   "id": "47a5f12b-6b09-44b8-8d35-3ffe1a25d740",
   "metadata": {},
   "outputs": [],
   "source": [
    "my_list=[\"one\",\"two\",\"three\"]"
   ]
  },
  {
   "cell_type": "code",
   "execution_count": 11,
   "id": "93f855a8-551f-460d-b1b7-9c6cea7a2c40",
   "metadata": {},
   "outputs": [
    {
     "data": {
      "text/plain": [
       "'one'"
      ]
     },
     "execution_count": 11,
     "metadata": {},
     "output_type": "execute_result"
    }
   ],
   "source": [
    "my_list[0]"
   ]
  },
  {
   "cell_type": "code",
   "execution_count": 13,
   "id": "09a37e04-827d-4e77-b4ab-10ff31a47aa1",
   "metadata": {},
   "outputs": [
    {
     "data": {
      "text/plain": [
       "['two', 'three']"
      ]
     },
     "execution_count": 13,
     "metadata": {},
     "output_type": "execute_result"
    }
   ],
   "source": [
    "my_list[1:]"
   ]
  },
  {
   "cell_type": "code",
   "execution_count": 15,
   "id": "1677b5b8-4cb3-4d5f-a6af-f7c4db7125f6",
   "metadata": {},
   "outputs": [
    {
     "data": {
      "text/plain": [
       "['one', 'two', 'three']"
      ]
     },
     "execution_count": 15,
     "metadata": {},
     "output_type": "execute_result"
    }
   ],
   "source": [
    "my_list"
   ]
  },
  {
   "cell_type": "code",
   "execution_count": 19,
   "id": "3225b734-7bc7-4d71-9b6d-839343c38fb5",
   "metadata": {},
   "outputs": [],
   "source": [
    "another_list=[\"four\",\"five\"]"
   ]
  },
  {
   "cell_type": "code",
   "execution_count": 23,
   "id": "9e8a4ce2-e12f-4317-9d9b-7200c586faf0",
   "metadata": {},
   "outputs": [],
   "source": [
    "new_list = my_list+another_list"
   ]
  },
  {
   "cell_type": "code",
   "execution_count": 25,
   "id": "812a1573-7dcc-44ad-a73a-afcb699dd36a",
   "metadata": {},
   "outputs": [
    {
     "data": {
      "text/plain": [
       "['one', 'two', 'three', 'four', 'five']"
      ]
     },
     "execution_count": 25,
     "metadata": {},
     "output_type": "execute_result"
    }
   ],
   "source": [
    "new_list"
   ]
  },
  {
   "cell_type": "code",
   "execution_count": 27,
   "id": "a69ae25b-4418-4dae-a8a2-0733d34a2e8a",
   "metadata": {},
   "outputs": [],
   "source": [
    "new_list[0] = \"ONE ALL CAPS\""
   ]
  },
  {
   "cell_type": "code",
   "execution_count": 29,
   "id": "cc132ac6-82bd-466b-8bcf-8b4fcf382b5f",
   "metadata": {},
   "outputs": [
    {
     "data": {
      "text/plain": [
       "['ONE ALL CAPS', 'two', 'three', 'four', 'five']"
      ]
     },
     "execution_count": 29,
     "metadata": {},
     "output_type": "execute_result"
    }
   ],
   "source": [
    "new_list"
   ]
  },
  {
   "cell_type": "code",
   "execution_count": 35,
   "id": "4af95bac-1839-4979-9cdd-cae92f3a44bf",
   "metadata": {},
   "outputs": [],
   "source": [
    "new_list.append(\"seven\") #add element at the end of list"
   ]
  },
  {
   "cell_type": "code",
   "execution_count": 37,
   "id": "e5f8acf7-f1db-4202-b04c-24ac822f7114",
   "metadata": {},
   "outputs": [
    {
     "data": {
      "text/plain": [
       "['ONE ALL CAPS', 'two', 'three', 'four', 'five', 'seven', 'seven']"
      ]
     },
     "execution_count": 37,
     "metadata": {},
     "output_type": "execute_result"
    }
   ],
   "source": [
    "new_list"
   ]
  },
  {
   "cell_type": "code",
   "execution_count": 39,
   "id": "a2674889-e7e2-4743-8b2c-ca2fbf94c358",
   "metadata": {},
   "outputs": [],
   "source": [
    "#REMOVING LAST ITEM FROM A LIST"
   ]
  },
  {
   "cell_type": "code",
   "execution_count": 41,
   "id": "d82c327d-c36e-4c90-ae06-d0453b4078fe",
   "metadata": {},
   "outputs": [],
   "source": [
    "poppedItem= new_list.pop()"
   ]
  },
  {
   "cell_type": "code",
   "execution_count": 43,
   "id": "a6b819d3-4963-4c80-a633-68c0a1db43e0",
   "metadata": {},
   "outputs": [
    {
     "data": {
      "text/plain": [
       "'seven'"
      ]
     },
     "execution_count": 43,
     "metadata": {},
     "output_type": "execute_result"
    }
   ],
   "source": [
    "poppedItem"
   ]
  },
  {
   "cell_type": "code",
   "execution_count": 45,
   "id": "a01261eb-f2a7-4ddb-9f9c-4eb565f0c1f9",
   "metadata": {},
   "outputs": [
    {
     "data": {
      "text/plain": [
       "['ONE ALL CAPS', 'two', 'three', 'four', 'five', 'seven']"
      ]
     },
     "execution_count": 45,
     "metadata": {},
     "output_type": "execute_result"
    }
   ],
   "source": [
    "new_list"
   ]
  },
  {
   "cell_type": "code",
   "execution_count": 47,
   "id": "db8bf3ba-10d5-4bd4-ba3c-fc351597c2c1",
   "metadata": {},
   "outputs": [
    {
     "data": {
      "text/plain": [
       "'seven'"
      ]
     },
     "execution_count": 47,
     "metadata": {},
     "output_type": "execute_result"
    }
   ],
   "source": [
    "poppedItem"
   ]
  },
  {
   "cell_type": "code",
   "execution_count": 49,
   "id": "a138749c-526b-4651-b591-280e7ea9d4f1",
   "metadata": {},
   "outputs": [
    {
     "data": {
      "text/plain": [
       "['ONE ALL CAPS', 'two', 'three', 'four', 'five', 'seven']"
      ]
     },
     "execution_count": 49,
     "metadata": {},
     "output_type": "execute_result"
    }
   ],
   "source": [
    "new_list"
   ]
  },
  {
   "cell_type": "code",
   "execution_count": 51,
   "id": "5227e7c9-11ea-47da-aebc-6a02e9d06633",
   "metadata": {},
   "outputs": [],
   "source": [
    "poppedItem = new_list.pop(0)"
   ]
  },
  {
   "cell_type": "code",
   "execution_count": 53,
   "id": "e82e8dc7-c8b5-4b7b-9943-5663f2b40176",
   "metadata": {},
   "outputs": [
    {
     "data": {
      "text/plain": [
       "'ONE ALL CAPS'"
      ]
     },
     "execution_count": 53,
     "metadata": {},
     "output_type": "execute_result"
    }
   ],
   "source": [
    "poppedItem"
   ]
  },
  {
   "cell_type": "code",
   "execution_count": 55,
   "id": "0e822b6e-5c2a-491a-abe8-4d417d990795",
   "metadata": {},
   "outputs": [
    {
     "data": {
      "text/plain": [
       "['two', 'three', 'four', 'five', 'seven']"
      ]
     },
     "execution_count": 55,
     "metadata": {},
     "output_type": "execute_result"
    }
   ],
   "source": [
    "new_list"
   ]
  },
  {
   "cell_type": "code",
   "execution_count": 57,
   "id": "d7ebc252-47ca-4c9d-91c7-f290e2b14502",
   "metadata": {},
   "outputs": [],
   "source": [
    "poppedItem = new_list.pop()"
   ]
  },
  {
   "cell_type": "code",
   "execution_count": 59,
   "id": "1669b0ae-62dd-48b3-b41e-62b1b1f4cedf",
   "metadata": {},
   "outputs": [
    {
     "data": {
      "text/plain": [
       "'seven'"
      ]
     },
     "execution_count": 59,
     "metadata": {},
     "output_type": "execute_result"
    }
   ],
   "source": [
    "poppedItem"
   ]
  },
  {
   "cell_type": "code",
   "execution_count": 61,
   "id": "1b3b5d1c-b23c-4ffb-8056-b3d10ee5214b",
   "metadata": {},
   "outputs": [
    {
     "data": {
      "text/plain": [
       "['two', 'three', 'four', 'five']"
      ]
     },
     "execution_count": 61,
     "metadata": {},
     "output_type": "execute_result"
    }
   ],
   "source": [
    "new_list"
   ]
  },
  {
   "cell_type": "code",
   "execution_count": 63,
   "id": "de01aa4c-c781-4bbd-bc1c-a13b60c3c65c",
   "metadata": {},
   "outputs": [],
   "source": [
    "new_list =[\"a\",\"e\",\"x\",\"b\",\"c\"]\n",
    "num_list = [4,1,8,3]"
   ]
  },
  {
   "cell_type": "code",
   "execution_count": 69,
   "id": "24c240a2-7538-46b9-a09a-f2dde1d1bd9f",
   "metadata": {},
   "outputs": [],
   "source": [
    "new_list.sort() #sorting"
   ]
  },
  {
   "cell_type": "code",
   "execution_count": 71,
   "id": "32e4620b-00d7-4a11-b81e-a2b1c6b5c423",
   "metadata": {},
   "outputs": [
    {
     "data": {
      "text/plain": [
       "['a', 'b', 'c', 'e', 'x']"
      ]
     },
     "execution_count": 71,
     "metadata": {},
     "output_type": "execute_result"
    }
   ],
   "source": [
    "new_list"
   ]
  },
  {
   "cell_type": "code",
   "execution_count": 75,
   "id": "64eb87ee-3490-4df9-ad54-a55c588491cd",
   "metadata": {},
   "outputs": [],
   "source": [
    "  num_list.reverse()"
   ]
  },
  {
   "cell_type": "code",
   "execution_count": 77,
   "id": "045b7484-ca76-4ec8-9d70-a85a1a99dfc3",
   "metadata": {},
   "outputs": [
    {
     "data": {
      "text/plain": [
       "[3, 8, 1, 4]"
      ]
     },
     "execution_count": 77,
     "metadata": {},
     "output_type": "execute_result"
    }
   ],
   "source": [
    "num_list"
   ]
  },
  {
   "cell_type": "code",
   "execution_count": 79,
   "id": "b12ad811-4601-4047-9f3c-b359650893e0",
   "metadata": {},
   "outputs": [],
   "source": [
    "my_reversed_list = num_list"
   ]
  },
  {
   "cell_type": "code",
   "execution_count": 81,
   "id": "788014bb-f0ac-4835-a74e-10860565d4b0",
   "metadata": {},
   "outputs": [
    {
     "data": {
      "text/plain": [
       "[3, 8, 1, 4]"
      ]
     },
     "execution_count": 81,
     "metadata": {},
     "output_type": "execute_result"
    }
   ],
   "source": [
    "my_reversed_list"
   ]
  },
  {
   "cell_type": "code",
   "execution_count": null,
   "id": "2c1af149-d9bd-402e-845b-431b1fd7d0ec",
   "metadata": {},
   "outputs": [],
   "source": []
  }
 ],
 "metadata": {
  "kernelspec": {
   "display_name": "Python 3 (ipykernel)",
   "language": "python",
   "name": "python3"
  },
  "language_info": {
   "codemirror_mode": {
    "name": "ipython",
    "version": 3
   },
   "file_extension": ".py",
   "mimetype": "text/x-python",
   "name": "python",
   "nbconvert_exporter": "python",
   "pygments_lexer": "ipython3",
   "version": "3.12.4"
  }
 },
 "nbformat": 4,
 "nbformat_minor": 5
}
